{
 "cells": [
  {
   "cell_type": "markdown",
   "metadata": {},
   "source": [
    "# Predicting job churn"
   ]
  },
  {
   "cell_type": "markdown",
   "metadata": {},
   "source": [
    "## Project definition\n",
    "\n",
    "### Overview\n",
    "\n",
    "- A company that relies on Big Data wants to hire data scientists among candidates that sign up for a special training they provide. \n",
    "- The objetive is to predict the probability that an enrollee will want to work for the company after the training or will start looking for a new job.\n",
    "- This information is useful for the company as it helps to plan training courses as to reduce the cost and time and control for the quality of sessions.\n",
    "- Current credentials, demographics and experience data is provided for each enrollee, as well as a target variable that indicates wether a candidate is not looking for a new job (0) or is looking for a job (1).\n",
    "- The dataset comes from [Kaggle](https://www.kaggle.com/arashnic/hr-analytics-job-change-of-data-scientists).\n",
    "\n",
    "### Features\n",
    "\n",
    "- `enrollee_id:` Unique ID for candidate\n",
    "- `city:` City code\n",
    "- `city_development_index:` Developement index of the city (scaled)\n",
    "- `gender:` Gender of candidate\n",
    "- `relevent_experience:` Relevant experience of candidate\n",
    "- `enrolled_university:` Type of University course enrolled if any\n",
    "- `education_level:` Education level of candidate\n",
    "- `major_discipline:` Education major discipline of candidate\n",
    "- `experience:` Candidate total experience in years\n",
    "- `company_size:` No of employees in current employer's company\n",
    "- `company_type:` Type of current employer\n",
    "- `lastnewjob:` Difference in years between previous job and current job\n",
    "- `training_hours:` training hours completed\n",
    "- `target:` 0 – Not looking for job change, 1 – Looking for a job change\n",
    "\n",
    "### Problem\n",
    "\n",
    "- Estimate the probability that a candidate will start looking for a new job after the training.\n",
    "\n",
    "### Solution\n",
    "\n",
    "- A machine learning XGboost model will be fitted on the data to estimate the probabilities of enrollees looking for a new job after the completion of their special training.\n",
    "\n",
    "### Metrics\n",
    "\n",
    "- The model evaluation metric will be the [Area Under the Receiver Operating Characteristic Curve (ROC AUC)](https://scikit-learn.org/stable/modules/generated/sklearn.metrics.roc_auc_score.html)\n",
    "\n",
    "- After model evaluation, AUC scores will be benchmakred against other models trained on the same data.\n"
   ]
  },
  {
   "cell_type": "markdown",
   "metadata": {},
   "source": [
    "## Exploratory Data Analysis (EDA) of raw data"
   ]
  },
  {
   "cell_type": "code",
   "execution_count": 5,
   "metadata": {},
   "outputs": [
    {
     "name": "stdout",
     "output_type": "stream",
     "text": [
      "Collecting plotnine\n",
      "  Downloading plotnine-0.7.1-py3-none-any.whl (4.4 MB)\n",
      "\u001b[K     |████████████████████████████████| 4.4 MB 26.8 MB/s eta 0:00:01\n",
      "\u001b[?25hRequirement already satisfied: scipy>=1.2.0 in /home/ec2-user/anaconda3/envs/amazonei_mxnet_p36/lib/python3.6/site-packages (from plotnine) (1.5.3)\n",
      "Requirement already satisfied: statsmodels>=0.11.1 in /home/ec2-user/anaconda3/envs/amazonei_mxnet_p36/lib/python3.6/site-packages (from plotnine) (0.12.2)\n",
      "Collecting mizani>=0.7.1\n",
      "  Downloading mizani-0.7.2-py3-none-any.whl (62 kB)\n",
      "\u001b[K     |████████████████████████████████| 62 kB 403 kB/s  eta 0:00:01\n",
      "\u001b[?25hRequirement already satisfied: patsy>=0.5.1 in /home/ec2-user/anaconda3/envs/amazonei_mxnet_p36/lib/python3.6/site-packages (from plotnine) (0.5.1)\n",
      "Requirement already satisfied: numpy>=1.16.0 in /home/ec2-user/anaconda3/envs/amazonei_mxnet_p36/lib/python3.6/site-packages (from plotnine) (1.19.5)\n",
      "Requirement already satisfied: pandas>=1.1.0 in /home/ec2-user/anaconda3/envs/amazonei_mxnet_p36/lib/python3.6/site-packages (from plotnine) (1.1.5)\n",
      "Requirement already satisfied: matplotlib>=3.1.1 in /home/ec2-user/anaconda3/envs/amazonei_mxnet_p36/lib/python3.6/site-packages (from plotnine) (3.3.4)\n",
      "Collecting descartes>=1.1.0\n",
      "  Downloading descartes-1.1.0-py3-none-any.whl (5.8 kB)\n",
      "Requirement already satisfied: cycler>=0.10 in /home/ec2-user/anaconda3/envs/amazonei_mxnet_p36/lib/python3.6/site-packages (from matplotlib>=3.1.1->plotnine) (0.10.0)\n",
      "Requirement already satisfied: python-dateutil>=2.1 in /home/ec2-user/anaconda3/envs/amazonei_mxnet_p36/lib/python3.6/site-packages (from matplotlib>=3.1.1->plotnine) (2.8.1)\n",
      "Requirement already satisfied: pyparsing!=2.0.4,!=2.1.2,!=2.1.6,>=2.0.3 in /home/ec2-user/anaconda3/envs/amazonei_mxnet_p36/lib/python3.6/site-packages (from matplotlib>=3.1.1->plotnine) (2.4.7)\n",
      "Requirement already satisfied: kiwisolver>=1.0.1 in /home/ec2-user/anaconda3/envs/amazonei_mxnet_p36/lib/python3.6/site-packages (from matplotlib>=3.1.1->plotnine) (1.3.1)\n",
      "Requirement already satisfied: pillow>=6.2.0 in /home/ec2-user/anaconda3/envs/amazonei_mxnet_p36/lib/python3.6/site-packages (from matplotlib>=3.1.1->plotnine) (8.1.0)\n",
      "Requirement already satisfied: six in /home/ec2-user/anaconda3/envs/amazonei_mxnet_p36/lib/python3.6/site-packages (from cycler>=0.10->matplotlib>=3.1.1->plotnine) (1.15.0)\n",
      "Collecting palettable\n",
      "  Downloading palettable-3.3.0-py2.py3-none-any.whl (111 kB)\n",
      "\u001b[K     |████████████████████████████████| 111 kB 61.6 MB/s eta 0:00:01\n",
      "\u001b[?25hRequirement already satisfied: pytz>=2017.2 in /home/ec2-user/anaconda3/envs/amazonei_mxnet_p36/lib/python3.6/site-packages (from pandas>=1.1.0->plotnine) (2021.1)\n",
      "Installing collected packages: palettable, mizani, descartes, plotnine\n",
      "Successfully installed descartes-1.1.0 mizani-0.7.2 palettable-3.3.0 plotnine-0.7.1\n"
     ]
    }
   ],
   "source": [
    "# Install plotnine if missing\n",
    "!pip install plotnine"
   ]
  },
  {
   "cell_type": "code",
   "execution_count": 6,
   "metadata": {},
   "outputs": [],
   "source": [
    "# Import libraries\n",
    "import os\n",
    "import numpy as np\n",
    "import pandas as pd\n",
    "import matplotlib.pyplot as plt\n",
    "from plotnine import *"
   ]
  },
  {
   "cell_type": "markdown",
   "metadata": {},
   "source": [
    "A train and test set have been provided, the test data has no target info. In this section we will explore relevant charateristics of the data.\n",
    "\n",
    "- **Shape of train and test sets:**"
   ]
  },
  {
   "cell_type": "code",
   "execution_count": 23,
   "metadata": {},
   "outputs": [
    {
     "name": "stdout",
     "output_type": "stream",
     "text": [
      "Train shape: 19158 rows, and 14 columns\n",
      "Test shape: 2129 rows, and 13 columns\n"
     ]
    }
   ],
   "source": [
    "# Load raw data\n",
    "dir_raw_data = 'data/raw'\n",
    "train = pd.read_csv(os.path.join(dir_raw_data, 'aug_train.csv'))\n",
    "test = pd.read_csv(os.path.join(dir_raw_data, 'aug_test.csv'))\n",
    "print(\"Train shape: \" + str(train.shape[0]) + \" rows, and \" +  str(train.shape[1]) + \" columns\")\n",
    "print(\"Test shape: \" + str(test.shape[0]) + \" rows, and \" +  str(test.shape[1]) + \" columns\")"
   ]
  },
  {
   "cell_type": "markdown",
   "metadata": {},
   "source": [
    "As mentioned the test set is missing the target field."
   ]
  },
  {
   "cell_type": "markdown",
   "metadata": {},
   "source": [
    "### Fields and data types"
   ]
  },
  {
   "cell_type": "code",
   "execution_count": 111,
   "metadata": {},
   "outputs": [
    {
     "name": "stdout",
     "output_type": "stream",
     "text": [
      "<class 'pandas.core.frame.DataFrame'>\n",
      "RangeIndex: 19158 entries, 0 to 19157\n",
      "Data columns (total 14 columns):\n",
      " #   Column                  Non-Null Count  Dtype  \n",
      "---  ------                  --------------  -----  \n",
      " 0   enrollee_id             19158 non-null  int64  \n",
      " 1   city                    19158 non-null  object \n",
      " 2   city_development_index  19158 non-null  float64\n",
      " 3   gender                  14650 non-null  object \n",
      " 4   relevent_experience     19158 non-null  object \n",
      " 5   enrolled_university     18772 non-null  object \n",
      " 6   education_level         18698 non-null  object \n",
      " 7   major_discipline        16345 non-null  object \n",
      " 8   experience              19093 non-null  object \n",
      " 9   company_size            13220 non-null  object \n",
      " 10  company_type            13018 non-null  object \n",
      " 11  last_new_job            18735 non-null  object \n",
      " 12  training_hours          19158 non-null  int64  \n",
      " 13  target                  19158 non-null  float64\n",
      "dtypes: float64(2), int64(2), object(10)\n",
      "memory usage: 2.0+ MB\n"
     ]
    }
   ],
   "source": [
    "train.info()"
   ]
  },
  {
   "cell_type": "markdown",
   "metadata": {},
   "source": [
    "### Number of unique enrollees by dataset"
   ]
  },
  {
   "cell_type": "code",
   "execution_count": 112,
   "metadata": {},
   "outputs": [
    {
     "name": "stdout",
     "output_type": "stream",
     "text": [
      "Unique enrollees in train dataset: 19158\n",
      "Unique enrollees in test dataset: 2129\n"
     ]
    }
   ],
   "source": [
    "print(\"Unique enrollees in train dataset: \" + str(len(train.enrollee_id.unique())))\n",
    "print(\"Unique enrollees in test dataset: \" + str(len(test.enrollee_id.unique())))"
   ]
  },
  {
   "cell_type": "markdown",
   "metadata": {},
   "source": [
    "10 out of 14 fields are categorical and the reamining 4 are numerical."
   ]
  },
  {
   "cell_type": "markdown",
   "metadata": {},
   "source": [
    "### Target descriptions"
   ]
  },
  {
   "cell_type": "code",
   "execution_count": 113,
   "metadata": {},
   "outputs": [
    {
     "data": {
      "text/html": [
       "<div>\n",
       "<style scoped>\n",
       "    .dataframe tbody tr th:only-of-type {\n",
       "        vertical-align: middle;\n",
       "    }\n",
       "\n",
       "    .dataframe tbody tr th {\n",
       "        vertical-align: top;\n",
       "    }\n",
       "\n",
       "    .dataframe thead th {\n",
       "        text-align: right;\n",
       "    }\n",
       "</style>\n",
       "<table border=\"1\" class=\"dataframe\">\n",
       "  <thead>\n",
       "    <tr style=\"text-align: right;\">\n",
       "      <th></th>\n",
       "      <th>target</th>\n",
       "      <th>counts</th>\n",
       "      <th>percent</th>\n",
       "    </tr>\n",
       "  </thead>\n",
       "  <tbody>\n",
       "    <tr>\n",
       "      <th>0</th>\n",
       "      <td>0</td>\n",
       "      <td>14381</td>\n",
       "      <td>75.0</td>\n",
       "    </tr>\n",
       "    <tr>\n",
       "      <th>1</th>\n",
       "      <td>1</td>\n",
       "      <td>4777</td>\n",
       "      <td>25.0</td>\n",
       "    </tr>\n",
       "  </tbody>\n",
       "</table>\n",
       "</div>"
      ],
      "text/plain": [
       "  target  counts  percent\n",
       "0      0   14381     75.0\n",
       "1      1    4777     25.0"
      ]
     },
     "execution_count": 113,
     "metadata": {},
     "output_type": "execute_result"
    }
   ],
   "source": [
    "df_target_counts = train[['target']].value_counts().reset_index().rename(columns = {0: 'counts'})\n",
    "df_target_counts['target'] = df_target_counts.target.astype('object')\n",
    "df_target_counts['percent'] = train.target.value_counts(normalize=True).round(2).mul(100)\n",
    "df_target_counts"
   ]
  },
  {
   "cell_type": "code",
   "execution_count": 114,
   "metadata": {},
   "outputs": [
    {
     "data": {
      "image/png": "[encoded data removed]",
      "text/plain": [
       "<Figure size 640x480 with 1 Axes>"
      ]
     },
     "metadata": {},
     "output_type": "display_data"
    },
    {
     "data": {
      "text/plain": [
       "<ggplot: (8788917301256)>"
      ]
     },
     "execution_count": 114,
     "metadata": {},
     "output_type": "execute_result"
    }
   ],
   "source": [
    "( \n",
    "    ggplot( df_target_counts, aes(x = 'target', y = 'counts', fill = 'target') ) + \n",
    "    geom_col() +\n",
    "    labs(title =  \"Target distribution\")\n",
    ")"
   ]
  },
  {
   "cell_type": "markdown",
   "metadata": {},
   "source": [
    "It is a highly imbalanced target, for each enrollee that wants to look for a new job, there are three that are staying."
   ]
  },
  {
   "cell_type": "markdown",
   "metadata": {},
   "source": [
    "### Missing values"
   ]
  },
  {
   "cell_type": "code",
   "execution_count": 115,
   "metadata": {},
   "outputs": [
    {
     "data": {
      "text/html": [
       "<div>\n",
       "<style scoped>\n",
       "    .dataframe tbody tr th:only-of-type {\n",
       "        vertical-align: middle;\n",
       "    }\n",
       "\n",
       "    .dataframe tbody tr th {\n",
       "        vertical-align: top;\n",
       "    }\n",
       "\n",
       "    .dataframe thead th {\n",
       "        text-align: right;\n",
       "    }\n",
       "</style>\n",
       "<table border=\"1\" class=\"dataframe\">\n",
       "  <thead>\n",
       "    <tr style=\"text-align: right;\">\n",
       "      <th></th>\n",
       "      <th>fields</th>\n",
       "      <th>counts</th>\n",
       "      <th>percent</th>\n",
       "    </tr>\n",
       "  </thead>\n",
       "  <tbody>\n",
       "    <tr>\n",
       "      <th>10</th>\n",
       "      <td>company_type</td>\n",
       "      <td>6140</td>\n",
       "      <td>32.0</td>\n",
       "    </tr>\n",
       "    <tr>\n",
       "      <th>9</th>\n",
       "      <td>company_size</td>\n",
       "      <td>5938</td>\n",
       "      <td>31.0</td>\n",
       "    </tr>\n",
       "    <tr>\n",
       "      <th>3</th>\n",
       "      <td>gender</td>\n",
       "      <td>4508</td>\n",
       "      <td>24.0</td>\n",
       "    </tr>\n",
       "    <tr>\n",
       "      <th>7</th>\n",
       "      <td>major_discipline</td>\n",
       "      <td>2813</td>\n",
       "      <td>15.0</td>\n",
       "    </tr>\n",
       "    <tr>\n",
       "      <th>6</th>\n",
       "      <td>education_level</td>\n",
       "      <td>460</td>\n",
       "      <td>2.0</td>\n",
       "    </tr>\n",
       "    <tr>\n",
       "      <th>11</th>\n",
       "      <td>last_new_job</td>\n",
       "      <td>423</td>\n",
       "      <td>2.0</td>\n",
       "    </tr>\n",
       "    <tr>\n",
       "      <th>5</th>\n",
       "      <td>enrolled_university</td>\n",
       "      <td>386</td>\n",
       "      <td>2.0</td>\n",
       "    </tr>\n",
       "    <tr>\n",
       "      <th>8</th>\n",
       "      <td>experience</td>\n",
       "      <td>65</td>\n",
       "      <td>0.0</td>\n",
       "    </tr>\n",
       "    <tr>\n",
       "      <th>0</th>\n",
       "      <td>enrollee_id</td>\n",
       "      <td>0</td>\n",
       "      <td>0.0</td>\n",
       "    </tr>\n",
       "    <tr>\n",
       "      <th>1</th>\n",
       "      <td>city</td>\n",
       "      <td>0</td>\n",
       "      <td>0.0</td>\n",
       "    </tr>\n",
       "    <tr>\n",
       "      <th>2</th>\n",
       "      <td>city_development_index</td>\n",
       "      <td>0</td>\n",
       "      <td>0.0</td>\n",
       "    </tr>\n",
       "    <tr>\n",
       "      <th>4</th>\n",
       "      <td>relevent_experience</td>\n",
       "      <td>0</td>\n",
       "      <td>0.0</td>\n",
       "    </tr>\n",
       "    <tr>\n",
       "      <th>12</th>\n",
       "      <td>training_hours</td>\n",
       "      <td>0</td>\n",
       "      <td>0.0</td>\n",
       "    </tr>\n",
       "    <tr>\n",
       "      <th>13</th>\n",
       "      <td>target</td>\n",
       "      <td>0</td>\n",
       "      <td>0.0</td>\n",
       "    </tr>\n",
       "  </tbody>\n",
       "</table>\n",
       "</div>"
      ],
      "text/plain": [
       "                    fields  counts  percent\n",
       "10            company_type    6140     32.0\n",
       "9             company_size    5938     31.0\n",
       "3                   gender    4508     24.0\n",
       "7         major_discipline    2813     15.0\n",
       "6          education_level     460      2.0\n",
       "11            last_new_job     423      2.0\n",
       "5      enrolled_university     386      2.0\n",
       "8               experience      65      0.0\n",
       "0              enrollee_id       0      0.0\n",
       "1                     city       0      0.0\n",
       "2   city_development_index       0      0.0\n",
       "4      relevent_experience       0      0.0\n",
       "12          training_hours       0      0.0\n",
       "13                  target       0      0.0"
      ]
     },
     "execution_count": 115,
     "metadata": {},
     "output_type": "execute_result"
    }
   ],
   "source": [
    "df_train_missing_vals = train.isna().sum().reset_index().rename( columns = {'index': 'fields', 0: 'counts'}).sort_values(by = 'counts', ascending = False)\n",
    "df_train_missing_vals['percent'] = round(df_train_missing_vals.counts / train.shape[0], 2)*100\n",
    "df_train_missing_vals"
   ]
  },
  {
   "cell_type": "markdown",
   "metadata": {},
   "source": [
    "* There are missing values in the dataset. The fields `company_type`, `company_size`, `gender` and `major_discipline` are the fields that have more than 15% of their values missing. \n",
    "\n",
    "* `Education_level`, `enrolled_university` and `last_new_job` have only 2% values missing.\n",
    "\n",
    "* An imputation strategy should be used such as the mode or trying aggregate them in other category."
   ]
  },
  {
   "cell_type": "markdown",
   "metadata": {},
   "source": [
    "### Visualizations"
   ]
  },
  {
   "cell_type": "code",
   "execution_count": 116,
   "metadata": {},
   "outputs": [],
   "source": [
    "def plot_categorical_fields(df, variable):\n",
    "    '''\n",
    "    This function creates barplots for all categorical data.\n",
    "    df: dataframe\n",
    "    variable: categorical data to plot\n",
    "    Returns a plotnine object\n",
    "    '''\n",
    "    df = df.assign(counts = 1)\n",
    "    df[variable] = df[variable].fillna(\"Missing\")\n",
    "    df.groupby([variable, 'target'])['counts'].sum()\n",
    "    df = pd.DataFrame(df).reset_index()\n",
    "    df['target'] = df.target.astype('category')\n",
    "    gg = (\n",
    "        ggplot( df, aes( x = variable, y = 'counts', fill = 'target') ) +\n",
    "        geom_col() +\n",
    "        labs( title = 'Target vs: ' + variable)\n",
    "    )\n",
    "    gg.draw()"
   ]
  },
  {
   "cell_type": "code",
   "execution_count": 117,
   "metadata": {},
   "outputs": [
    {
     "data": {
      "image/png": "[encoded data removed]",
      "text/plain": [
       "<Figure size 640x480 with 1 Axes>"
      ]
     },
     "metadata": {},
     "output_type": "display_data"
    },
    {
     "data": {
      "image/png": "[encoded data removed]",
      "text/plain": [
       "<Figure size 640x480 with 1 Axes>"
      ]
     },
     "metadata": {},
     "output_type": "display_data"
    },
    {
     "data": {
      "image/png": "[encoded data removed]",
      "text/plain": [
       "<Figure size 640x480 with 1 Axes>"
      ]
     },
     "metadata": {},
     "output_type": "display_data"
    },
    {
     "data": {
      "image/png": "[encoded data removed]",
      "text/plain": [
       "<Figure size 640x480 with 1 Axes>"
      ]
     },
     "metadata": {},
     "output_type": "display_data"
    },
    {
     "data": {
      "image/png": "[encoded data removed]",
      "text/plain": [
       "<Figure size 640x480 with 1 Axes>"
      ]
     },
     "metadata": {},
     "output_type": "display_data"
    },
    {
     "data": {
      "image/png": "[encoded data removed]",
      "text/plain": [
       "<Figure size 640x480 with 1 Axes>"
      ]
     },
     "metadata": {},
     "output_type": "display_data"
    },
    {
     "data": {
      "image/png": "[encoded data removed]",
      "text/plain": [
       "<Figure size 640x480 with 1 Axes>"
      ]
     },
     "metadata": {},
     "output_type": "display_data"
    },
    {
     "data": {
      "image/png": "[encoded data removed]",
      "text/plain": [
       "<Figure size 640x480 with 1 Axes>"
      ]
     },
     "metadata": {},
     "output_type": "display_data"
    },
    {
     "data": {
      "image/png": "[encoded data removed]",
      "text/plain": [
       "<Figure size 640x480 with 1 Axes>"
      ]
     },
     "metadata": {},
     "output_type": "display_data"
    },
    {
     "data": {
      "image/png": "[encoded data removed]",
      "text/plain": [
       "<Figure size 640x480 with 1 Axes>"
      ]
     },
     "metadata": {},
     "output_type": "display_data"
    }
   ],
   "source": [
    "for field in train.dtypes[(train.dtypes == 'object') | (train.dtypes == 'category') ].index:\n",
    "    plot_categorical_fields(train, field)"
   ]
  },
  {
   "cell_type": "markdown",
   "metadata": {},
   "source": [
    "### A few observations by fields:\n",
    "\n",
    "- `city:` It is very hetrogeneous, there are 6 cities with more observations than others.\n",
    "- `gender:` There are more males than females, but also missing genders is high enough. Missing genders could be aggregated with others.\n",
    "- `relevant_experience:` There is people with more relevant experience than others, but in terms of who wants to stay and who wants to leave there is no clear pattern.\n",
    "- `enrolled_university:` There are more enrollees not enrolled in university, I will assume they are professionals. Missing values can be aggregated to no_enrollment.\n",
    "- `eductaion_level:` Most of the enrollees are graduates and have a postgraduate. There are many other education levels that could be aggregated to have more general categories.\n",
    "- `major_discipline:` Most enrollees come from STEM major disciplines. The rest show very few records. Major disciplines could be aggregated into more general ones.\n",
    "- `experience:` There are more enrollees with less than or equal to 9 years of experience than with more than 9 years of experience. It is more likely that people with less years of experience choose to look for a new job. This variable could also be aggregated into more general values.\n",
    "- `company_type:` Most of the enrollees work for private sector, however the number of records with missing data are too many. Missing and other company type could be aggregated. The rest of the types could be aggregated into more general ones.\n",
    "- `company_size:` Most other enrollees did not indicate company size, they could be aggregated into the less than 10 category. This field is a bit dirty; it could be aggregated into more general categories. Apparently, enrollees with missing values tend to look for a new job.\n",
    "- `last_new_job:` Most of the enrollees are on their first job. It less likely that people with more years of experience look for a new job. Missing and never could be aggregated."
   ]
  },
  {
   "cell_type": "markdown",
   "metadata": {},
   "source": [
    "## Preprocessing\n",
    "\n",
    "**Clean data**\n",
    "\n",
    "- Aggregate categories within fields. \n",
    "- Missing values are aggregated as descripted above.\n",
    "- Converts all values into lower case and removes spaces."
   ]
  },
  {
   "cell_type": "code",
   "execution_count": 20,
   "metadata": {},
   "outputs": [],
   "source": [
    "def clean_data(df):\n",
    "    '''\n",
    "    The function cleans each field in the dataset.\n",
    "    It receives a raw dataset and returns a clean dataset.\n",
    "    In general it converts each value to lower case, removes empty spaces, relabels values such as missing values. \n",
    "    It aggregates categories. For orginal categorical variables it specifies the order of each category.\n",
    "    '''\n",
    "    # copy dataframe\n",
    "    df = df.copy()\n",
    "    # gender\n",
    "    df['gender'] = df.gender.fillna(\"Other\").str.lower()\n",
    "    # enrolled univeristy\n",
    "    df['enrolled_university'] = df.enrolled_university.fillna(\"no_enrollment\").str.lower().str.replace(r'\\s',\"_\")\n",
    "    # erolled_university\n",
    "    df['relevent_experience'] = df.relevent_experience.str.lower().str.replace(r'\\s',\"_\")\n",
    "    # education_level\n",
    "    df['education_level'] = (\n",
    "        df.education_level\n",
    "            .str.lower()\n",
    "            .str.replace(r'\\s',\"_\")\n",
    "            .replace('primary_school', 'not_graduate')\n",
    "            .replace('high_school', 'not_graduate')\n",
    "            .replace('masters', 'post_graduate')\n",
    "            .replace('phd', 'post_graduate')\n",
    "            .replace(np.nan, 'not_graduate')\n",
    "            .astype('category').cat.reorder_categories(['not_graduate', 'graduate','post_graduate'], ordered=True)\n",
    "    )\n",
    "    # major discipline\n",
    "    df['major_discipline'] = (\n",
    "        df.major_discipline\n",
    "            .str.lower()\n",
    "            .str.replace(r'\\s',\"_\")\n",
    "            .replace('humanities', 'not_stem')\n",
    "            .replace('business_degree', 'not_stem')\n",
    "            .replace('arts', 'not_stem')\n",
    "            .replace('no_major', 'other')\n",
    "            .replace(np.nan, 'other')\n",
    "    )\n",
    "    # experience\n",
    "    df.experience.loc[ \n",
    "        (df.experience == '<1') | (df.experience == '1') | (df.experience == '2') | \n",
    "        (df.experience == '3') | (df.experience == '4') | (df.experience == '5') ] = 'less_or_equal_than_5'\n",
    "    df.experience.loc[ \n",
    "        (df.experience == '6') | (df.experience == '7') | (df.experience == '8') | \n",
    "        (df.experience == '9') | (df.experience == '10') ] = 'less_or_equal_than_10'\n",
    "    df.experience.loc[ \n",
    "        (df.experience == '11') | (df.experience == '12') | (df.experience == '13') | \n",
    "        (df.experience == '14') | (df.experience == '15') ] = 'less_or_equal_than_15'\n",
    "    df.experience.loc[ \n",
    "        (df.experience == '16') | (df.experience == '17') | (df.experience == '18') | \n",
    "        (df.experience == '19') | (df.experience == '20') ] = 'less_or_equal_than_15'\n",
    "    df.experience.loc[ df.experience == '>20'] = 'greater_than_20'\n",
    "    df['experience'] = (\n",
    "        df.experience\n",
    "            .fillna('less_or_equal_than_5')\n",
    "            .astype('category').cat.reorder_categories(\n",
    "                ['less_or_equal_than_5', 'less_or_equal_than_10',\n",
    "                 'less_or_equal_than_15', 'greater_than_20'], ordered=True)\n",
    "    )\n",
    "    # company_type\n",
    "    df['company_type'] = (\n",
    "        df.company_type\n",
    "            .str.lower()\n",
    "            .str.replace(r'\\s',\"_\")\n",
    "            .replace('funded_startup', 'startup')\n",
    "            .replace('early_stage_startup', 'startup')\n",
    "            .replace('public_sector', 'government_or_ngo')\n",
    "            .replace('ngo', 'government_or_ngo')\n",
    "            .replace('no_major', 'other')\n",
    "            .replace(np.nan, 'other')\n",
    "    )\n",
    "    # company size\n",
    "    df.company_size.loc[ \n",
    "        (df.company_size == '<10') | (df.company_size == '10/49') | \n",
    "        (df.company_size == '50-99') ] = 'less_or_equal_than_99'\n",
    "    df.company_size.loc[ \n",
    "        (df.company_size == '100-500') | (df.company_size == '500-999') | \n",
    "        (df.company_size == '50-99') ] = 'less_or_equal_than_999'\n",
    "    df.company_size.loc[ \n",
    "        (df.company_size == '1000-4999') | (df.company_size == '5000-9999') | \n",
    "        (df.company_size == '10000+') ] = 'greater_than_999'\n",
    "    df['company_size'] = (\n",
    "        df.company_size\n",
    "            .fillna('missing')\n",
    "            .astype('category')\n",
    "            .cat.reorder_categories(\n",
    "                ['less_or_equal_than_99', 'less_or_equal_than_999',\n",
    "                 'greater_than_999', 'missing'], ordered=True)\n",
    "    )\n",
    "    # last_new_job\n",
    "    df['last_new_job'] = (\n",
    "        df.last_new_job.fillna('never')\n",
    "            .replace('1', 'less_or_equal_than_1')\n",
    "            .replace('2', 'less_or_equal_than_2')\n",
    "            .replace('3', 'less_or_equal_than_4')\n",
    "            .replace('4', 'less_or_equal_than_4')\n",
    "            .replace('>4', 'more_than_4')\n",
    "            .astype('category')\n",
    "            .cat.reorder_categories(\n",
    "                ['never','less_or_equal_than_1', 'less_or_equal_than_2', \n",
    "                 'less_or_equal_than_4', 'more_than_4'], ordered=True)\n",
    "    )\n",
    "\n",
    "    return df"
   ]
  },
  {
   "cell_type": "code",
   "execution_count": 119,
   "metadata": {},
   "outputs": [
    {
     "name": "stderr",
     "output_type": "stream",
     "text": [
      "/home/ec2-user/anaconda3/envs/amazonei_mxnet_p36/lib/python3.6/site-packages/pandas/core/indexing.py:670: SettingWithCopyWarning: \n",
      "A value is trying to be set on a copy of a slice from a DataFrame\n",
      "\n",
      "See the caveats in the documentation: https://pandas.pydata.org/pandas-docs/stable/user_guide/indexing.html#returning-a-view-versus-a-copy\n"
     ]
    }
   ],
   "source": [
    "cleaned_train = clean_data(train)"
   ]
  },
  {
   "cell_type": "markdown",
   "metadata": {},
   "source": [
    "- **Select features to be included in the design matrix**"
   ]
  },
  {
   "cell_type": "markdown",
   "metadata": {},
   "source": [
    "All variables are selected except enrollee id and city. For city we are using the city_development_index as it is more informative."
   ]
  },
  {
   "cell_type": "code",
   "execution_count": 21,
   "metadata": {},
   "outputs": [],
   "source": [
    "categorical_fields = [\n",
    "    'gender', 'relevent_experience', 'enrolled_university', 'education_level', \n",
    "    'major_discipline', 'experience', 'company_size', 'company_type', 'last_new_job'\n",
    "]\n",
    "\n",
    "numerical_fields = [\n",
    "    'city_development_index',\n",
    "    'training_hours'\n",
    "]"
   ]
  },
  {
   "cell_type": "markdown",
   "metadata": {},
   "source": [
    "- **One Hot Encode categorical variables.**"
   ]
  },
  {
   "cell_type": "markdown",
   "metadata": {},
   "source": [
    "We one hot encode all categorical variables and concatenate the new matrix with the numerical matrix, to yield the final design matrix."
   ]
  },
  {
   "cell_type": "code",
   "execution_count": 121,
   "metadata": {},
   "outputs": [],
   "source": [
    "from sklearn.preprocessing import OneHotEncoder\n",
    "one_hot_encoder = OneHotEncoder()\n",
    "one_hot_encoder.fit( cleaned_train[categorical_fields] )\n",
    "categorical_matrix = one_hot_encoder.transform( cleaned_train[categorical_fields] ).toarray()\n",
    "numeric_matrix = cleaned_train[numerical_fields].values\n",
    "X_train_array = np.concatenate((categorical_matrix, numeric_matrix), axis = 1)\n",
    "y_train_array = cleaned_train['target'].astype('int64').values"
   ]
  },
  {
   "cell_type": "code",
   "execution_count": 122,
   "metadata": {},
   "outputs": [
    {
     "name": "stdout",
     "output_type": "stream",
     "text": [
      "(19158, 33)\n",
      "(19158,)\n"
     ]
    }
   ],
   "source": [
    "print(X_train_array.shape)\n",
    "print(y_train_array.shape)"
   ]
  },
  {
   "cell_type": "markdown",
   "metadata": {},
   "source": [
    "After recoding and one hot encoding there are 33 fields."
   ]
  },
  {
   "cell_type": "markdown",
   "metadata": {},
   "source": [
    "- **Split the training data into training and validation data**\n",
    "\n",
    "    + Training is 75%\n",
    "    + Validation is 25%\n",
    "    + Splitting is stratified by the target variable to preserve the same proportions in training and validation dataset."
   ]
  },
  {
   "cell_type": "code",
   "execution_count": 123,
   "metadata": {},
   "outputs": [],
   "source": [
    "from sklearn.model_selection import train_test_split\n",
    "X_train, X_val, y_train, y_val = train_test_split( X_train_array, y_train_array, test_size=0.25, random_state=42 )"
   ]
  },
  {
   "cell_type": "code",
   "execution_count": 124,
   "metadata": {},
   "outputs": [
    {
     "name": "stdout",
     "output_type": "stream",
     "text": [
      "Training set:\n",
      "Rows: 14368 Columns: 33\n",
      "\n",
      "Valdiation set:\n",
      "Rows: 4790 Columns: 33\n"
     ]
    }
   ],
   "source": [
    "print(\"Training set:\")\n",
    "print(\"Rows: \" + str( X_train.shape[0]) + \" Columns: \" + str( X_train.shape[1]))\n",
    "\n",
    "print(\"\\nValdiation set:\")\n",
    "print(\"Rows: \" + str( X_val.shape[0]) + \" Columns: \" + str( X_val.shape[1]))"
   ]
  },
  {
   "cell_type": "markdown",
   "metadata": {},
   "source": [
    "- **Clean the testing set**"
   ]
  },
  {
   "cell_type": "markdown",
   "metadata": {},
   "source": [
    "The same process for training set is repeated on the testing set."
   ]
  },
  {
   "cell_type": "code",
   "execution_count": 25,
   "metadata": {},
   "outputs": [],
   "source": [
    "cleaned_test = clean_data(test)"
   ]
  },
  {
   "cell_type": "code",
   "execution_count": 126,
   "metadata": {},
   "outputs": [],
   "source": [
    "categorical_matrix = one_hot_encoder.transform( cleaned_test[categorical_fields] ).toarray()\n",
    "numeric_matrix = cleaned_test[numerical_fields].values\n",
    "X_test_array = np.concatenate((categorical_matrix, numeric_matrix), axis = 1)"
   ]
  },
  {
   "cell_type": "code",
   "execution_count": 127,
   "metadata": {},
   "outputs": [
    {
     "name": "stdout",
     "output_type": "stream",
     "text": [
      "(2129, 33)\n"
     ]
    }
   ],
   "source": [
    "print(X_test_array.shape)"
   ]
  },
  {
   "cell_type": "markdown",
   "metadata": {},
   "source": [
    "### Upload data S3"
   ]
  },
  {
   "cell_type": "markdown",
   "metadata": {},
   "source": [
    "The preprocessed training, validation and testing datasets are stored in csv files locally, and then are uploaded to S3."
   ]
  },
  {
   "cell_type": "markdown",
   "metadata": {},
   "source": [
    "**Save preprocessed data locally**"
   ]
  },
  {
   "cell_type": "code",
   "execution_count": 128,
   "metadata": {},
   "outputs": [],
   "source": [
    "dir_preprocessed_data = 'data/preprocessed'\n",
    "\n",
    "if not os.path.exists(dir_preprocessed_data): # Make sure that the folder exists\n",
    "    print(\"Creating directory for preprocessed data ...\")\n",
    "    os.makedirs(dir_preprocessed_data)\n",
    "\n",
    "# Save training dataset\n",
    "(\n",
    "    pd.concat([pd.DataFrame(y_train), pd.DataFrame(X_train)], axis = 1)\n",
    "        .to_csv( os.path.join(dir_preprocessed_data, 'train.csv'), \n",
    "                header=False, \n",
    "                index=False)\n",
    ")\n",
    "\n",
    "# Save validation dataset\n",
    "(\n",
    "    pd.concat([pd.DataFrame(y_val), pd.DataFrame(X_val)], axis = 1)\n",
    "        .to_csv( os.path.join(dir_preprocessed_data, 'validation.csv'), \n",
    "                header=False, \n",
    "                index=False)\n",
    ")\n",
    "# Save test dataset\n",
    "(\n",
    "    pd.concat([pd.DataFrame(X_test_array)], axis = 1)\n",
    "        .to_csv( os.path.join(dir_preprocessed_data, 'test.csv'), \n",
    "                header=False, \n",
    "                index=False)\n",
    ")"
   ]
  },
  {
   "cell_type": "markdown",
   "metadata": {},
   "source": [
    "It might be necessary to update the sagemaker library. If necessary uncomment the code an run."
   ]
  },
  {
   "cell_type": "code",
   "execution_count": 129,
   "metadata": {},
   "outputs": [],
   "source": [
    "# Update sagemaker if necessary\n",
    "#!pip install -U sagemaker"
   ]
  },
  {
   "cell_type": "code",
   "execution_count": 130,
   "metadata": {},
   "outputs": [],
   "source": [
    "import boto3\n",
    "import sagemaker\n",
    "from sagemaker import get_execution_role\n",
    "from sagemaker import image_uris\n",
    "from sagemaker.session import Session\n",
    "from sagemaker.inputs import TrainingInput\n",
    "\n",
    "sagemaker_session = sagemaker.Session()\n",
    "\n",
    "bucket = sagemaker_session.default_bucket()\n",
    "prefix = 'sagemaker/predicting_job_change'\n",
    "\n",
    "role = sagemaker.get_execution_role()"
   ]
  },
  {
   "cell_type": "code",
   "execution_count": 131,
   "metadata": {},
   "outputs": [],
   "source": [
    "train_location = sagemaker_session.upload_data( os.path.join(dir_preprocessed_data, 'train.csv'), key_prefix=prefix)\n",
    "val_location = sagemaker_session.upload_data( os.path.join(dir_preprocessed_data, 'validation.csv'), key_prefix=prefix)\n",
    "test_location = sagemaker_session.upload_data( os.path.join(dir_preprocessed_data, 'test.csv'), key_prefix=prefix)"
   ]
  },
  {
   "cell_type": "markdown",
   "metadata": {},
   "source": [
    "## Train and test models"
   ]
  },
  {
   "cell_type": "markdown",
   "metadata": {},
   "source": [
    "- Two xgboost models are going to be fitted using a different tuning parameter on the optimization target. The first model is going to be optimized by accuracy and the second by area under the curve score."
   ]
  },
  {
   "cell_type": "markdown",
   "metadata": {},
   "source": [
    "### xgboost optimized on accuracy\n",
    "\n",
    "**Train**"
   ]
  },
  {
   "cell_type": "markdown",
   "metadata": {},
   "source": [
    "* Sagemaker implementation for xgboost is used."
   ]
  },
  {
   "cell_type": "code",
   "execution_count": 132,
   "metadata": {},
   "outputs": [],
   "source": [
    "# get the container for xgboost\n",
    "xgboost_container = sagemaker.image_uris.retrieve(\"xgboost\", boto3.Session().region_name, \"1.2-1\")\n",
    "\n",
    "# construct a SageMaker estimator\n",
    "xgb = sagemaker.estimator.Estimator(image_uri=xgboost_container, \n",
    "                                          role=role,\n",
    "                                          instance_count=1, \n",
    "                                          instance_type='ml.m4.xlarge', \n",
    "                                          output_path='s3://{}/{}/output'.format(sagemaker_session.default_bucket(), prefix),\n",
    "                                          sagemaker_session=sagemaker_session)\n",
    "# set hyperparameters\n",
    "xgb.set_hyperparameters(max_depth=5,\n",
    "                        eta=0.1,\n",
    "                        gamma = 3,\n",
    "                        min_child_weight=6,\n",
    "                        subsample=0.8,\n",
    "                        objective='binary:logistic',\n",
    "                        num_round=1000)"
   ]
  },
  {
   "cell_type": "markdown",
   "metadata": {},
   "source": [
    "* To control overfitting, hyper-paramater tuning is applied choosing from a reasonable range of values for max depth, eta, min child weight, gamma and subsample"
   ]
  },
  {
   "cell_type": "code",
   "execution_count": 133,
   "metadata": {},
   "outputs": [],
   "source": [
    "from sagemaker.tuner import IntegerParameter, ContinuousParameter, HyperparameterTuner\n",
    "\n",
    "xgb_hyperparameter_tuner = HyperparameterTuner(estimator=xgb, \n",
    "                                               objective_metric_name='validation:accuracy',\n",
    "                                               objective_type='Maximize',\n",
    "                                               max_jobs = 20,\n",
    "                                               max_parallel_jobs = 3,\n",
    "                                               hyperparameter_ranges= {\n",
    "                                                  'max_depth': IntegerParameter(3,8),\n",
    "                                                  'eta' : ContinuousParameter(0.001, 1),\n",
    "                                                  'gamma' : ContinuousParameter(0, 5),\n",
    "                                                  'min_child_weight': IntegerParameter(2,6),\n",
    "                                                  'subsample': ContinuousParameter(0.5,0.9),\n",
    "                                                  'colsample_bytree': ContinuousParameter(0.5,1) \n",
    "                                               })"
   ]
  },
  {
   "cell_type": "code",
   "execution_count": null,
   "metadata": {},
   "outputs": [
    {
     "name": "stdout",
     "output_type": "stream",
     "text": [
      "...........................................................................................................................................................................................................................................................................................................................................................................................................................................................................!\n",
      "!\n"
     ]
    }
   ],
   "source": [
    "s3_input_train = TrainingInput(train_location, content_type='csv')\n",
    "s3_input_validation = TrainingInput(val_location, content_type='csv')\n",
    "\n",
    "xgb_hyperparameter_tuner.fit({'train': s3_input_train, 'validation': s3_input_validation})\n",
    "\n",
    "xgb_hyperparameter_tuner.wait()"
   ]
  },
  {
   "cell_type": "markdown",
   "metadata": {},
   "source": [
    "* The best performing model was."
   ]
  },
  {
   "cell_type": "code",
   "execution_count": null,
   "metadata": {},
   "outputs": [
    {
     "data": {
      "text/plain": [
       "'sagemaker-xgboost-210309-0631-012-711c78e7'"
      ]
     },
     "execution_count": 135,
     "metadata": {},
     "output_type": "execute_result"
    }
   ],
   "source": [
    "xgb_hyperparameter_tuner.best_training_job()"
   ]
  },
  {
   "cell_type": "markdown",
   "metadata": {},
   "source": [
    "* The best estimator is used to create a batch transform job to test our model. Deployment of the model in a web app is not considered, as the business will provide batch data every period of time, on a low frequency period."
   ]
  },
  {
   "cell_type": "code",
   "execution_count": null,
   "metadata": {},
   "outputs": [
    {
     "name": "stdout",
     "output_type": "stream",
     "text": [
      "\n",
      "2021-03-09 06:52:44 Starting - Preparing the instances for training\n",
      "2021-03-09 06:52:44 Downloading - Downloading input data\n",
      "2021-03-09 06:52:44 Training - Training image download completed. Training in progress.\n",
      "2021-03-09 06:52:44 Uploading - Uploading generated training model\n",
      "2021-03-09 06:52:44 Completed - Training job completed\n"
     ]
    }
   ],
   "source": [
    "xgb_attached = sagemaker.estimator.Estimator.attach(xgb_hyperparameter_tuner.best_training_job())"
   ]
  },
  {
   "cell_type": "markdown",
   "metadata": {},
   "source": [
    "**Test**"
   ]
  },
  {
   "cell_type": "markdown",
   "metadata": {},
   "source": [
    "* A testing batch job is created to obtain predictions for the testing dataset of enrollees."
   ]
  },
  {
   "cell_type": "code",
   "execution_count": null,
   "metadata": {},
   "outputs": [],
   "source": [
    "xgb_transformer = xgb_attached.transformer(instance_count = 1, instance_type = 'ml.m4.xlarge')"
   ]
  },
  {
   "cell_type": "code",
   "execution_count": null,
   "metadata": {},
   "outputs": [
    {
     "name": "stdout",
     "output_type": "stream",
     "text": [
      ".......................................\n",
      "\u001b[34m[2021-03-09:07:16:11:INFO] No GPUs detected (normal if no gpus installed)\u001b[0m\n",
      "\u001b[34m[2021-03-09:07:16:11:INFO] No GPUs detected (normal if no gpus installed)\u001b[0m\n",
      "\u001b[34m[2021-03-09:07:16:11:INFO] nginx config: \u001b[0m\n",
      "\u001b[34mworker_processes auto;\u001b[0m\n",
      "\u001b[34mdaemon off;\u001b[0m\n",
      "\u001b[34mpid /tmp/nginx.pid;\u001b[0m\n",
      "\u001b[34merror_log  /dev/stderr;\n",
      "\u001b[0m\n",
      "\u001b[34mworker_rlimit_nofile 4096;\n",
      "\u001b[0m\n",
      "\u001b[34mevents {\n",
      "  worker_connections 2048;\u001b[0m\n",
      "\u001b[34m}\n",
      "\u001b[0m\n",
      "\u001b[34mhttp {\n",
      "  include /etc/nginx/mime.types;\n",
      "  default_type application/octet-stream;\n",
      "  access_log /dev/stdout combined;\n",
      "\n",
      "  upstream gunicorn {\n",
      "    server unix:/tmp/gunicorn.sock;\n",
      "  }\n",
      "\n",
      "  server {\n",
      "    listen 8080 deferred;\n",
      "    client_max_body_size 0;\n",
      "\n",
      "    keepalive_timeout 3;\n",
      "\n",
      "    location ~ ^/(ping|invocations|execution-parameters) {\n",
      "      proxy_set_header X-Forwarded-For $proxy_add_x_forwarded_for;\n",
      "      proxy_set_header Host $http_host;\n",
      "      proxy_redirect off;\n",
      "      proxy_read_timeout 60s;\n",
      "      proxy_pass http://gunicorn;\n",
      "    }\n",
      "\n",
      "    location / {\n",
      "      return 404 \"{}\";\n",
      "    }\n",
      "\n",
      "  }\u001b[0m\n",
      "\u001b[34m}\n",
      "\n",
      "\u001b[0m\n",
      "\u001b[34m2021/03/09 07:16:11 [crit] 20#20: *1 connect() to unix:/tmp/gunicorn.sock failed (2: No such file or directory) while connecting to upstream, client: 169.254.255.130, server: , request: \"GET /ping HTTP/1.1\", upstream: \"http://unix:/tmp/gunicorn.sock:/ping\", host: \"169.254.255.131:8080\"\u001b[0m\n",
      "\u001b[34m169.254.255.130 - - [09/Mar/2021:07:16:11 +0000] \"GET /ping HTTP/1.1\" 502 182 \"-\" \"Go-http-client/1.1\"\u001b[0m\n",
      "\u001b[34m2021/03/09 07:16:11 [crit] 20#20: *3 connect() to unix:/tmp/gunicorn.sock failed (2: No such file or directory) while connecting to upstream, client: 169.254.255.130, server: , request: \"GET /ping HTTP/1.1\", upstream: \"http://unix:/tmp/gunicorn.sock:/ping\", host: \"169.254.255.131:8080\"\u001b[0m\n",
      "\u001b[34m169.254.255.130 - - [09/Mar/2021:07:16:11 +0000] \"GET /ping HTTP/1.1\" 502 182 \"-\" \"Go-http-client/1.1\"\u001b[0m\n",
      "\u001b[34m[2021-03-09 07:16:11 +0000] [18] [INFO] Starting gunicorn 19.10.0\u001b[0m\n",
      "\u001b[34m[2021-03-09 07:16:11 +0000] [18] [INFO] Listening at: unix:/tmp/gunicorn.sock (18)\u001b[0m\n",
      "\u001b[34m[2021-03-09 07:16:11 +0000] [18] [INFO] Using worker: gevent\u001b[0m\n",
      "\u001b[34m[2021-03-09 07:16:11 +0000] [25] [INFO] Booting worker with pid: 25\u001b[0m\n",
      "\u001b[34m[2021-03-09 07:16:11 +0000] [26] [INFO] Booting worker with pid: 26\u001b[0m\n",
      "\u001b[34m[2021-03-09 07:16:11 +0000] [27] [INFO] Booting worker with pid: 27\u001b[0m\n",
      "\u001b[34m[2021-03-09 07:16:12 +0000] [31] [INFO] Booting worker with pid: 31\u001b[0m\n",
      "\u001b[34m[2021-03-09:07:16:13:INFO] No GPUs detected (normal if no gpus installed)\u001b[0m\n",
      "\u001b[34m169.254.255.130 - - [09/Mar/2021:07:16:13 +0000] \"GET /ping HTTP/1.1\" 200 0 \"-\" \"Go-http-client/1.1\"\u001b[0m\n",
      "\u001b[34m169.254.255.130 - - [09/Mar/2021:07:16:13 +0000] \"GET /execution-parameters HTTP/1.1\" 200 84 \"-\" \"Go-http-client/1.1\"\u001b[0m\n",
      "\u001b[34m[2021-03-09:07:16:13:INFO] No GPUs detected (normal if no gpus installed)\u001b[0m\n",
      "\u001b[34m[2021-03-09:07:16:13:INFO] Determined delimiter of CSV input is ','\u001b[0m\n",
      "\u001b[34m169.254.255.130 - - [09/Mar/2021:07:16:14 +0000] \"POST /invocations HTTP/1.1\" 200 41454 \"-\" \"Go-http-client/1.1\"\u001b[0m\n",
      "\u001b[32m2021-03-09T07:16:13.863:[sagemaker logs]: MaxConcurrentTransforms=4, MaxPayloadInMB=6, BatchStrategy=MULTI_RECORD\u001b[0m\n"
     ]
    }
   ],
   "source": [
    "xgb_transformer.transform(test_location, content_type='text/csv', split_type='Line')"
   ]
  },
  {
   "cell_type": "code",
   "execution_count": null,
   "metadata": {},
   "outputs": [
    {
     "name": "stdout",
     "output_type": "stream",
     "text": [
      "\u001b[34m[2021-03-09:07:16:11:INFO] No GPUs detected (normal if no gpus installed)\u001b[0m\n",
      "\u001b[34m[2021-03-09:07:16:11:INFO] No GPUs detected (normal if no gpus installed)\u001b[0m\n",
      "\u001b[34m[2021-03-09:07:16:11:INFO] nginx config: \u001b[0m\n",
      "\u001b[34mworker_processes auto;\u001b[0m\n",
      "\u001b[34mdaemon off;\u001b[0m\n",
      "\u001b[34mpid /tmp/nginx.pid;\u001b[0m\n",
      "\u001b[34merror_log  /dev/stderr;\n",
      "\u001b[0m\n",
      "\u001b[34mworker_rlimit_nofile 4096;\n",
      "\u001b[0m\n",
      "\u001b[34mevents {\n",
      "  worker_connections 2048;\u001b[0m\n",
      "\u001b[34m}\n",
      "\u001b[0m\n",
      "\u001b[35m[2021-03-09:07:16:11:INFO] No GPUs detected (normal if no gpus installed)\u001b[0m\n",
      "\u001b[35m[2021-03-09:07:16:11:INFO] No GPUs detected (normal if no gpus installed)\u001b[0m\n",
      "\u001b[35m[2021-03-09:07:16:11:INFO] nginx config: \u001b[0m\n",
      "\u001b[35mworker_processes auto;\u001b[0m\n",
      "\u001b[35mdaemon off;\u001b[0m\n",
      "\u001b[35mpid /tmp/nginx.pid;\u001b[0m\n",
      "\u001b[35merror_log  /dev/stderr;\n",
      "\u001b[0m\n",
      "\u001b[35mworker_rlimit_nofile 4096;\n",
      "\u001b[0m\n",
      "\u001b[35mevents {\n",
      "  worker_connections 2048;\u001b[0m\n",
      "\u001b[35m}\n",
      "\u001b[0m\n",
      "\u001b[34mhttp {\n",
      "  include /etc/nginx/mime.types;\n",
      "  default_type application/octet-stream;\n",
      "  access_log /dev/stdout combined;\n",
      "\n",
      "  upstream gunicorn {\n",
      "    server unix:/tmp/gunicorn.sock;\n",
      "  }\n",
      "\n",
      "  server {\n",
      "    listen 8080 deferred;\n",
      "    client_max_body_size 0;\n",
      "\n",
      "    keepalive_timeout 3;\n",
      "\n",
      "    location ~ ^/(ping|invocations|execution-parameters) {\n",
      "      proxy_set_header X-Forwarded-For $proxy_add_x_forwarded_for;\n",
      "      proxy_set_header Host $http_host;\n",
      "      proxy_redirect off;\n",
      "      proxy_read_timeout 60s;\n",
      "      proxy_pass http://gunicorn;\n",
      "    }\n",
      "\n",
      "    location / {\n",
      "      return 404 \"{}\";\n",
      "    }\n",
      "\n",
      "  }\u001b[0m\n",
      "\u001b[34m}\n",
      "\n",
      "\u001b[0m\n",
      "\u001b[34m2021/03/09 07:16:11 [crit] 20#20: *1 connect() to unix:/tmp/gunicorn.sock failed (2: No such file or directory) while connecting to upstream, client: 169.254.255.130, server: , request: \"GET /ping HTTP/1.1\", upstream: \"http://unix:/tmp/gunicorn.sock:/ping\", host: \"169.254.255.131:8080\"\u001b[0m\n",
      "\u001b[34m169.254.255.130 - - [09/Mar/2021:07:16:11 +0000] \"GET /ping HTTP/1.1\" 502 182 \"-\" \"Go-http-client/1.1\"\u001b[0m\n",
      "\u001b[34m2021/03/09 07:16:11 [crit] 20#20: *3 connect() to unix:/tmp/gunicorn.sock failed (2: No such file or directory) while connecting to upstream, client: 169.254.255.130, server: , request: \"GET /ping HTTP/1.1\", upstream: \"http://unix:/tmp/gunicorn.sock:/ping\", host: \"169.254.255.131:8080\"\u001b[0m\n",
      "\u001b[34m169.254.255.130 - - [09/Mar/2021:07:16:11 +0000] \"GET /ping HTTP/1.1\" 502 182 \"-\" \"Go-http-client/1.1\"\u001b[0m\n",
      "\u001b[34m[2021-03-09 07:16:11 +0000] [18] [INFO] Starting gunicorn 19.10.0\u001b[0m\n",
      "\u001b[34m[2021-03-09 07:16:11 +0000] [18] [INFO] Listening at: unix:/tmp/gunicorn.sock (18)\u001b[0m\n",
      "\u001b[34m[2021-03-09 07:16:11 +0000] [18] [INFO] Using worker: gevent\u001b[0m\n",
      "\u001b[34m[2021-03-09 07:16:11 +0000] [25] [INFO] Booting worker with pid: 25\u001b[0m\n",
      "\u001b[34m[2021-03-09 07:16:11 +0000] [26] [INFO] Booting worker with pid: 26\u001b[0m\n",
      "\u001b[35mhttp {\n",
      "  include /etc/nginx/mime.types;\n",
      "  default_type application/octet-stream;\n",
      "  access_log /dev/stdout combined;\n",
      "\n",
      "  upstream gunicorn {\n",
      "    server unix:/tmp/gunicorn.sock;\n",
      "  }\n",
      "\n",
      "  server {\n",
      "    listen 8080 deferred;\n",
      "    client_max_body_size 0;\n",
      "\n",
      "    keepalive_timeout 3;\n",
      "\n",
      "    location ~ ^/(ping|invocations|execution-parameters) {\n",
      "      proxy_set_header X-Forwarded-For $proxy_add_x_forwarded_for;\n",
      "      proxy_set_header Host $http_host;\n",
      "      proxy_redirect off;\n",
      "      proxy_read_timeout 60s;\n",
      "      proxy_pass http://gunicorn;\n",
      "    }\n",
      "\n",
      "    location / {\n",
      "      return 404 \"{}\";\n",
      "    }\n",
      "\n",
      "  }\u001b[0m\n",
      "\u001b[35m}\n",
      "\n",
      "\u001b[0m\n",
      "\u001b[35m2021/03/09 07:16:11 [crit] 20#20: *1 connect() to unix:/tmp/gunicorn.sock failed (2: No such file or directory) while connecting to upstream, client: 169.254.255.130, server: , request: \"GET /ping HTTP/1.1\", upstream: \"http://unix:/tmp/gunicorn.sock:/ping\", host: \"169.254.255.131:8080\"\u001b[0m\n",
      "\u001b[35m169.254.255.130 - - [09/Mar/2021:07:16:11 +0000] \"GET /ping HTTP/1.1\" 502 182 \"-\" \"Go-http-client/1.1\"\u001b[0m\n",
      "\u001b[35m2021/03/09 07:16:11 [crit] 20#20: *3 connect() to unix:/tmp/gunicorn.sock failed (2: No such file or directory) while connecting to upstream, client: 169.254.255.130, server: , request: \"GET /ping HTTP/1.1\", upstream: \"http://unix:/tmp/gunicorn.sock:/ping\", host: \"169.254.255.131:8080\"\u001b[0m\n",
      "\u001b[35m169.254.255.130 - - [09/Mar/2021:07:16:11 +0000] \"GET /ping HTTP/1.1\" 502 182 \"-\" \"Go-http-client/1.1\"\u001b[0m\n",
      "\u001b[35m[2021-03-09 07:16:11 +0000] [18] [INFO] Starting gunicorn 19.10.0\u001b[0m\n",
      "\u001b[35m[2021-03-09 07:16:11 +0000] [18] [INFO] Listening at: unix:/tmp/gunicorn.sock (18)\u001b[0m\n",
      "\u001b[35m[2021-03-09 07:16:11 +0000] [18] [INFO] Using worker: gevent\u001b[0m\n",
      "\u001b[35m[2021-03-09 07:16:11 +0000] [25] [INFO] Booting worker with pid: 25\u001b[0m\n",
      "\u001b[35m[2021-03-09 07:16:11 +0000] [26] [INFO] Booting worker with pid: 26\u001b[0m\n",
      "\u001b[34m[2021-03-09 07:16:11 +0000] [27] [INFO] Booting worker with pid: 27\u001b[0m\n",
      "\u001b[35m[2021-03-09 07:16:11 +0000] [27] [INFO] Booting worker with pid: 27\u001b[0m\n",
      "\u001b[34m[2021-03-09 07:16:12 +0000] [31] [INFO] Booting worker with pid: 31\u001b[0m\n",
      "\u001b[35m[2021-03-09 07:16:12 +0000] [31] [INFO] Booting worker with pid: 31\u001b[0m\n",
      "\u001b[34m[2021-03-09:07:16:13:INFO] No GPUs detected (normal if no gpus installed)\u001b[0m\n",
      "\u001b[34m169.254.255.130 - - [09/Mar/2021:07:16:13 +0000] \"GET /ping HTTP/1.1\" 200 0 \"-\" \"Go-http-client/1.1\"\u001b[0m\n",
      "\u001b[34m169.254.255.130 - - [09/Mar/2021:07:16:13 +0000] \"GET /execution-parameters HTTP/1.1\" 200 84 \"-\" \"Go-http-client/1.1\"\u001b[0m\n",
      "\u001b[34m[2021-03-09:07:16:13:INFO] No GPUs detected (normal if no gpus installed)\u001b[0m\n",
      "\u001b[34m[2021-03-09:07:16:13:INFO] Determined delimiter of CSV input is ','\u001b[0m\n",
      "\u001b[35m[2021-03-09:07:16:13:INFO] No GPUs detected (normal if no gpus installed)\u001b[0m\n",
      "\u001b[35m169.254.255.130 - - [09/Mar/2021:07:16:13 +0000] \"GET /ping HTTP/1.1\" 200 0 \"-\" \"Go-http-client/1.1\"\u001b[0m\n",
      "\u001b[35m169.254.255.130 - - [09/Mar/2021:07:16:13 +0000] \"GET /execution-parameters HTTP/1.1\" 200 84 \"-\" \"Go-http-client/1.1\"\u001b[0m\n",
      "\u001b[35m[2021-03-09:07:16:13:INFO] No GPUs detected (normal if no gpus installed)\u001b[0m\n",
      "\u001b[35m[2021-03-09:07:16:13:INFO] Determined delimiter of CSV input is ','\u001b[0m\n",
      "\u001b[34m169.254.255.130 - - [09/Mar/2021:07:16:14 +0000] \"POST /invocations HTTP/1.1\" 200 41454 \"-\" \"Go-http-client/1.1\"\u001b[0m\n",
      "\u001b[35m169.254.255.130 - - [09/Mar/2021:07:16:14 +0000] \"POST /invocations HTTP/1.1\" 200 41454 \"-\" \"Go-http-client/1.1\"\u001b[0m\n",
      "\u001b[32m2021-03-09T07:16:13.863:[sagemaker logs]: MaxConcurrentTransforms=4, MaxPayloadInMB=6, BatchStrategy=MULTI_RECORD\u001b[0m\n"
     ]
    }
   ],
   "source": [
    "xgb_transformer.wait()"
   ]
  },
  {
   "cell_type": "markdown",
   "metadata": {},
   "source": [
    "* A directory in S3 is created to store predictions."
   ]
  },
  {
   "cell_type": "code",
   "execution_count": 8,
   "metadata": {},
   "outputs": [],
   "source": [
    "dir_sagemaker_predictions = 'data/sagemaker_predictions'\n",
    "\n",
    "if not os.path.exists(dir_sagemaker_predictions): # Make sure that the folder exists\n",
    "    print(\"Creating directory for sagemaker predictions ...\")\n",
    "    os.makedirs(dir_sagemaker_predictions)"
   ]
  },
  {
   "cell_type": "markdown",
   "metadata": {},
   "source": [
    "* Predictions are copied from S3 to local machine for further analysis."
   ]
  },
  {
   "cell_type": "code",
   "execution_count": null,
   "metadata": {},
   "outputs": [
    {
     "name": "stdout",
     "output_type": "stream",
     "text": [
      "download: s3://sagemaker-us-east-1-663209323204/sagemaker-xgboost-2021-03-09-07-09-48-520/test.csv.out to data/sagemaker_predictions/xgboost_acurracy/test.csv.out\n"
     ]
    }
   ],
   "source": [
    "!aws s3 cp --recursive $xgb_transformer.output_path $dir_sagemaker_predictions/xgboost_acurracy"
   ]
  },
  {
   "cell_type": "markdown",
   "metadata": {},
   "source": [
    "### xgboost optimized on auc"
   ]
  },
  {
   "cell_type": "markdown",
   "metadata": {},
   "source": [
    "* The second xgboost model is fitted optimizing on the AUC metric."
   ]
  },
  {
   "cell_type": "markdown",
   "metadata": {},
   "source": [
    "**Train**"
   ]
  },
  {
   "cell_type": "code",
   "execution_count": null,
   "metadata": {},
   "outputs": [],
   "source": [
    "# get the container for xgboost\n",
    "xgboost_container = sagemaker.image_uris.retrieve(\"xgboost\", boto3.Session().region_name, \"1.2-1\")\n",
    "\n",
    "# construct a SageMaker estimator\n",
    "xgb2 = sagemaker.estimator.Estimator(image_uri=xgboost_container, \n",
    "                                          role=role,\n",
    "                                          instance_count=1, \n",
    "                                          instance_type='ml.m4.xlarge', \n",
    "                                          output_path='s3://{}/{}/output'.format(sagemaker_session.default_bucket(), prefix),\n",
    "                                          sagemaker_session=sagemaker_session)\n",
    "# set hyperparameters\n",
    "xgb2.set_hyperparameters(max_depth=5,\n",
    "                        eta=0.1,\n",
    "                        min_child_weight=6,\n",
    "                        subsample=0.8,\n",
    "                        objective='binary:logistic',\n",
    "                        gamma = 3,\n",
    "                        num_round=1000)"
   ]
  },
  {
   "cell_type": "code",
   "execution_count": null,
   "metadata": {},
   "outputs": [],
   "source": [
    "xgb_hyperparameter_tuner2 = HyperparameterTuner(estimator=xgb2, \n",
    "                                               objective_metric_name='validation:auc',\n",
    "                                               objective_type='Maximize',\n",
    "                                               max_jobs = 20,\n",
    "                                               max_parallel_jobs = 3,\n",
    "                                               hyperparameter_ranges= {\n",
    "                                                  'max_depth': IntegerParameter(3,8),\n",
    "                                                  'eta' : ContinuousParameter(0.001, 1),\n",
    "                                                  'gamma' : ContinuousParameter(0, 5),\n",
    "                                                  'min_child_weight': IntegerParameter(2,6),\n",
    "                                                  'subsample': ContinuousParameter(0.5,0.9),\n",
    "                                                  'colsample_bytree': ContinuousParameter(0.5,1) \n",
    "                                               })"
   ]
  },
  {
   "cell_type": "code",
   "execution_count": null,
   "metadata": {},
   "outputs": [
    {
     "name": "stdout",
     "output_type": "stream",
     "text": [
      "...................................................................................................................................................................................................................................................................................................................................................................................................................!\n",
      "!\n"
     ]
    }
   ],
   "source": [
    "xgb_hyperparameter_tuner2.fit({'train': s3_input_train, 'validation': s3_input_validation})\n",
    "\n",
    "xgb_hyperparameter_tuner2.wait()"
   ]
  },
  {
   "cell_type": "code",
   "execution_count": null,
   "metadata": {},
   "outputs": [
    {
     "data": {
      "text/plain": [
       "'sagemaker-xgboost-210309-0716-012-22b700b0'"
      ]
     },
     "execution_count": 145,
     "metadata": {},
     "output_type": "execute_result"
    }
   ],
   "source": [
    "xgb_hyperparameter_tuner2.best_training_job()"
   ]
  },
  {
   "cell_type": "code",
   "execution_count": null,
   "metadata": {},
   "outputs": [
    {
     "name": "stdout",
     "output_type": "stream",
     "text": [
      "\n",
      "2021-03-09 07:37:05 Starting - Preparing the instances for training\n",
      "2021-03-09 07:37:05 Downloading - Downloading input data\n",
      "2021-03-09 07:37:05 Training - Training image download completed. Training in progress.\n",
      "2021-03-09 07:37:05 Uploading - Uploading generated training model\n",
      "2021-03-09 07:37:05 Completed - Training job completed\n"
     ]
    }
   ],
   "source": [
    "xgb_attached2 = sagemaker.estimator.Estimator.attach(xgb_hyperparameter_tuner2.best_training_job())"
   ]
  },
  {
   "cell_type": "markdown",
   "metadata": {},
   "source": [
    "**Test**"
   ]
  },
  {
   "cell_type": "markdown",
   "metadata": {},
   "source": [
    "* A tesing batch job is created to obtain predictions."
   ]
  },
  {
   "cell_type": "code",
   "execution_count": null,
   "metadata": {},
   "outputs": [
    {
     "name": "stdout",
     "output_type": "stream",
     "text": [
      "......................................\u001b[34m[2021-03-09:07:56:48:INFO] No GPUs detected (normal if no gpus installed)\u001b[0m\n",
      "\u001b[34m[2021-03-09:07:56:48:INFO] No GPUs detected (normal if no gpus installed)\u001b[0m\n",
      "\u001b[34m[2021-03-09:07:56:48:INFO] nginx config: \u001b[0m\n",
      "\u001b[34mworker_processes auto;\u001b[0m\n",
      "\u001b[34mdaemon off;\u001b[0m\n",
      "\u001b[34mpid /tmp/nginx.pid;\u001b[0m\n",
      "\u001b[34merror_log  /dev/stderr;\n",
      "\u001b[0m\n",
      "\u001b[34mworker_rlimit_nofile 4096;\n",
      "\u001b[0m\n",
      "\u001b[34mevents {\n",
      "  worker_connections 2048;\u001b[0m\n",
      "\u001b[34m}\n",
      "\u001b[0m\n",
      "\u001b[34mhttp {\n",
      "  include /etc/nginx/mime.types;\n",
      "  default_type application/octet-stream;\n",
      "  access_log /dev/stdout combined;\n",
      "\n",
      "  upstream gunicorn {\n",
      "    server unix:/tmp/gunicorn.sock;\n",
      "  }\n",
      "\n",
      "  server {\n",
      "    listen 8080 deferred;\n",
      "    client_max_body_size 0;\n",
      "\n",
      "    keepalive_timeout 3;\n",
      "\n",
      "    location ~ ^/(ping|invocations|execution-parameters) {\n",
      "      proxy_set_header X-Forwarded-For $proxy_add_x_forwarded_for;\n",
      "      proxy_set_header Host $http_host;\n",
      "      proxy_redirect off;\n",
      "      proxy_read_timeout 60s;\n",
      "      proxy_pass http://gunicorn;\n",
      "    }\n",
      "\n",
      "    location / {\n",
      "      return 404 \"{}\";\n",
      "    }\n",
      "\n",
      "  }\u001b[0m\n",
      "\u001b[34m}\n",
      "\n",
      "\u001b[0m\n",
      "\u001b[34m2021/03/09 07:56:48 [crit] 20#20: *1 connect() to unix:/tmp/gunicorn.sock failed (2: No such file or directory) while connecting to upstream, client: 169.254.255.130, server: , request: \"GET /ping HTTP/1.1\", upstream: \"http://unix:/tmp/gunicorn.sock:/ping\", host: \"169.254.255.131:8080\"\u001b[0m\n",
      "\u001b[34m169.254.255.130 - - [09/Mar/2021:07:56:48 +0000] \"GET /ping HTTP/1.1\" 502 182 \"-\" \"Go-http-client/1.1\"\u001b[0m\n",
      "\u001b[34m2021/03/09 07:56:48 [crit] 20#20: *3 connect() to unix:/tmp/gunicorn.sock failed (2: No such file or directory) while connecting to upstream, client: 169.254.255.130, server: , request: \"GET /ping HTTP/1.1\", upstream: \"http://unix:/tmp/gunicorn.sock:/ping\", host: \"169.254.255.131:8080\"\u001b[0m\n",
      "\u001b[34m169.254.255.130 - - [09/Mar/2021:07:56:48 +0000] \"GET /ping HTTP/1.1\" 502 182 \"-\" \"Go-http-client/1.1\"\u001b[0m\n",
      "\u001b[34m[2021-03-09 07:56:48 +0000] [18] [INFO] Starting gunicorn 19.10.0\u001b[0m\n",
      "\u001b[34m[2021-03-09 07:56:48 +0000] [18] [INFO] Listening at: unix:/tmp/gunicorn.sock (18)\u001b[0m\n",
      "\u001b[34m[2021-03-09 07:56:48 +0000] [18] [INFO] Using worker: gevent\u001b[0m\n",
      "\u001b[34m[2021-03-09 07:56:48 +0000] [25] [INFO] Booting worker with pid: 25\u001b[0m\n",
      "\u001b[34m[2021-03-09 07:56:48 +0000] [26] [INFO] Booting worker with pid: 26\u001b[0m\n",
      "\u001b[34m[2021-03-09 07:56:48 +0000] [27] [INFO] Booting worker with pid: 27\u001b[0m\n",
      "\u001b[34m[2021-03-09 07:56:48 +0000] [28] [INFO] Booting worker with pid: 28\u001b[0m\n",
      "\u001b[34m[2021-03-09:07:56:50:INFO] No GPUs detected (normal if no gpus installed)\u001b[0m\n",
      "\u001b[34m169.254.255.130 - - [09/Mar/2021:07:56:50 +0000] \"GET /ping HTTP/1.1\" 200 0 \"-\" \"Go-http-client/1.1\"\u001b[0m\n",
      "\u001b[34m[2021-03-09:07:56:50:INFO] No GPUs detected (normal if no gpus installed)\u001b[0m\n",
      "\u001b[34m169.254.255.130 - - [09/Mar/2021:07:56:50 +0000] \"GET /execution-parameters HTTP/1.1\" 200 84 \"-\" \"Go-http-client/1.1\"\u001b[0m\n",
      "\u001b[34m[2021-03-09:07:56:50:INFO] Determined delimiter of CSV input is ','\u001b[0m\n",
      "\u001b[34m169.254.255.130 - - [09/Mar/2021:07:56:50 +0000] \"POST /invocations HTTP/1.1\" 200 41663 \"-\" \"Go-http-client/1.1\"\u001b[0m\n",
      "\n",
      "\u001b[32m2021-03-09T07:56:50.166:[sagemaker logs]: MaxConcurrentTransforms=4, MaxPayloadInMB=6, BatchStrategy=MULTI_RECORD\u001b[0m\n"
     ]
    }
   ],
   "source": [
    "xgb_transformer2 = xgb_attached2.transformer(instance_count = 1, instance_type = 'ml.m4.xlarge')\n",
    "xgb_transformer2.transform(test_location, content_type='text/csv', split_type='Line')"
   ]
  },
  {
   "cell_type": "markdown",
   "metadata": {},
   "source": [
    "* Predictions are passed from S3 to local machine for analysis."
   ]
  },
  {
   "cell_type": "code",
   "execution_count": null,
   "metadata": {},
   "outputs": [
    {
     "name": "stdout",
     "output_type": "stream",
     "text": [
      "download: s3://sagemaker-us-east-1-663209323204/sagemaker-xgboost-2021-03-09-07-50-36-492/test.csv.out to data/sagemaker_predictions/xgboost_auc/test.csv.out\n"
     ]
    }
   ],
   "source": [
    "!aws s3 cp --recursive $xgb_transformer2.output_path $dir_sagemaker_predictions/xgboost_auc"
   ]
  },
  {
   "cell_type": "markdown",
   "metadata": {},
   "source": [
    "## Evaluation"
   ]
  },
  {
   "cell_type": "markdown",
   "metadata": {},
   "source": [
    "* In this section we compare the results of both xgboost probability predictions for enrolles looking for a job change. The estalbished comparison criteria is the Area Under the Curve (AUC) as stated in the Kaggle's problem description. \n",
    "\n",
    "* The AUC of these models is compared to the AUC scores obtained [Joshua Swords](https://www.kaggle.com/joshuaswords/awesome-hr-data-visualization-prediction) using the following models: SVC, Decision Tree, Random Forest, Logistic Regression and KNN.\n",
    "\n"
   ]
  },
  {
   "cell_type": "markdown",
   "metadata": {},
   "source": [
    "### Distribution of probabilities."
   ]
  },
  {
   "cell_type": "markdown",
   "metadata": {},
   "source": [
    "* The two models are very similar. However the xgboost tuned to reach better accuracy, returned a set of probabilities with a narrower distribution than the  xgboost tuned for better AUC."
   ]
  },
  {
   "cell_type": "code",
   "execution_count": 27,
   "metadata": {},
   "outputs": [],
   "source": [
    "y_test_pred_xgboost_accuracy = pd.read_csv(os.path.join(dir_sagemaker_predictions, 'xgboost_acurracy/test.csv.out'), header = None ).values.reshape(1,-1)[0]\n",
    "y_test_pred_xgboost_auc = pd.read_csv(os.path.join(dir_sagemaker_predictions, 'xgboost_auc/test.csv.out'), header = None ).values.reshape(1,-1)[0]\n",
    "y_test_true = np.load('data/raw/jobchange_test_target_values.npy')"
   ]
  },
  {
   "cell_type": "code",
   "execution_count": 28,
   "metadata": {},
   "outputs": [],
   "source": [
    "df_model_probs = pd.concat([\n",
    "    pd.DataFrame({'prob':y_test_pred_xgboost_accuracy, 'model': 'xgboost_accuracy'}),\n",
    "    pd.DataFrame({'prob':y_test_pred_xgboost_auc, 'model': 'xgboost_auc'})\n",
    "])"
   ]
  },
  {
   "cell_type": "code",
   "execution_count": 29,
   "metadata": {},
   "outputs": [
    {
     "data": {
      "image/png": "[encoded data removed]",
      "text/plain": [
       "<Figure size 640x480 with 1 Axes>"
      ]
     },
     "metadata": {},
     "output_type": "display_data"
    },
    {
     "data": {
      "text/plain": [
       "<ggplot: (8768228687126)>"
      ]
     },
     "execution_count": 29,
     "metadata": {},
     "output_type": "execute_result"
    }
   ],
   "source": [
    "( \n",
    "    ggplot( df_model_probs, aes( x = 'model', y = 'prob')) + \n",
    "    geom_boxplot() + \n",
    "    #facet_wrap(facets='~model') +\n",
    "    labs(title = 'Probability of Looking for job change', x = 'Probability') \n",
    ")"
   ]
  },
  {
   "cell_type": "markdown",
   "metadata": {},
   "source": [
    "### ROC Curves and AUC"
   ]
  },
  {
   "cell_type": "markdown",
   "metadata": {},
   "source": [
    "* Estimating the ROC curves it can be seen that both models a very similar classifiers. Their AUC curves are almost perfectly overlapped. \n",
    "* At this point it can be said that both models will do the job of yielding very similar probability predictions for employee turn over."
   ]
  },
  {
   "cell_type": "code",
   "execution_count": 31,
   "metadata": {},
   "outputs": [],
   "source": [
    "from sklearn import metrics"
   ]
  },
  {
   "cell_type": "code",
   "execution_count": 32,
   "metadata": {},
   "outputs": [],
   "source": [
    "def get_roc_curve_dataframe(y_test_true, y_test_pred, model_name):\n",
    "    '''\n",
    "    Returns a data frame with the fpr, tpr, thresholds and model name\n",
    "    '''\n",
    "    fpr, tpr, thresholds = metrics.roc_curve(y_test_true, y_test_pred)\n",
    "    return(pd.DataFrame({'fpr': fpr, 'tpr': tpr, 'thresholds':thresholds, 'model': model_name}))"
   ]
  },
  {
   "cell_type": "code",
   "execution_count": 33,
   "metadata": {},
   "outputs": [],
   "source": [
    "df_roc_curve = pd.concat(\n",
    "    [get_roc_curve_dataframe(y_test_true, y_test_pred_xgboost_accuracy, 'xgboost_accuracy'),\n",
    "     get_roc_curve_dataframe(y_test_true, y_test_pred_xgboost_auc, 'xgboost_auc')]\n",
    ")"
   ]
  },
  {
   "cell_type": "code",
   "execution_count": 34,
   "metadata": {},
   "outputs": [
    {
     "data": {
      "image/png": "[encoded data removed]",
      "text/plain": [
       "<Figure size 640x480 with 1 Axes>"
      ]
     },
     "metadata": {},
     "output_type": "display_data"
    },
    {
     "data": {
      "text/plain": [
       "<ggplot: (8768228753051)>"
      ]
     },
     "execution_count": 34,
     "metadata": {},
     "output_type": "execute_result"
    }
   ],
   "source": [
    "(\n",
    "    ggplot( df_roc_curve, aes( x = 'fpr', y = 'tpr', color = 'model') ) +\n",
    "    geom_path( ) +\n",
    "    geom_abline(slope = 1, intercept = 0, color = 'red') +\n",
    "    labs( title = 'ROC Curve')\n",
    ")"
   ]
  },
  {
   "cell_type": "markdown",
   "metadata": {},
   "source": [
    "* Below the AUC score is calculated, and it can be seen that both models yield 79% of AUC score, where 100% is the maximum."
   ]
  },
  {
   "cell_type": "markdown",
   "metadata": {},
   "source": [
    "**AUC score for xgboost tuned for better accuracy.**"
   ]
  },
  {
   "cell_type": "code",
   "execution_count": 35,
   "metadata": {},
   "outputs": [
    {
     "name": "stdout",
     "output_type": "stream",
     "text": [
      "Area under the curve Acurracy: 0.79\n"
     ]
    }
   ],
   "source": [
    "print(\"Area under the curve Acurracy: {}\".format(round(metrics.roc_auc_score(y_test_true, y_test_pred_xgboost_accuracy), 2)))"
   ]
  },
  {
   "cell_type": "markdown",
   "metadata": {},
   "source": [
    "**AUC score for xgboost tuned for better AUC score.**"
   ]
  },
  {
   "cell_type": "code",
   "execution_count": 36,
   "metadata": {},
   "outputs": [
    {
     "name": "stdout",
     "output_type": "stream",
     "text": [
      "Area under the curve AUC: 0.79\n"
     ]
    }
   ],
   "source": [
    "print(\"Area under the curve AUC: {}\".format(round(metrics.roc_auc_score(y_test_true, y_test_pred_xgboost_auc), 2)))"
   ]
  },
  {
   "cell_type": "markdown",
   "metadata": {},
   "source": [
    "* In order to assess wether these models perform well, they will be compared against other models estimated on the same data."
   ]
  },
  {
   "cell_type": "markdown",
   "metadata": {},
   "source": [
    "### AUC scores vs Benchmarks\n",
    "\n",
    "- The following table contains the model performance metrics that [Joshua Swords](https://www.kaggle.com/joshuaswords/awesome-hr-data-visualization-prediction) obtained using SVC, Decision Tree, Random Forest, Logistic Regression and KNN using the same data. In the columns he presents 4 evaluation metrics, accracy, recall, precision and ROC AUC score. In each row he presents the scores of each model conditional on the evaluation metric."
   ]
  },
  {
   "cell_type": "markdown",
   "metadata": {},
   "source": [
    "* The ROC AUC scores he obtained are in the range of 54.3% to 65%. The best performing model was a Random Forest."
   ]
  },
  {
   "cell_type": "markdown",
   "metadata": {},
   "source": [
    "<img src=\"fig/benchmarks.png\">"
   ]
  },
  {
   "cell_type": "markdown",
   "metadata": {},
   "source": [
    "* The XGboost model implemented in this project is well known to achieve superior results than any of the rest of the models presented in the table above. \n",
    "\n",
    "* The ROC AUC scores of the two XGboosts estimated outperformed by almost 10% points the Random Forest.\n",
    "\n",
    "* The XGboosts were tuned for maximum accuracy and ROC AUC score after hyper parameter tuning. Both models seem to be almost identical as how they separate both classes, no matter the threshold used.\n",
    "\n",
    "* Both models can be implemented for the task at hand. \n",
    "\n",
    "* At this point, wether these models are good enough, will depend on how useful they will be for Human Resources making decisions in the real world."
   ]
  },
  {
   "cell_type": "markdown",
   "metadata": {},
   "source": [
    "## Conclusions and final output"
   ]
  },
  {
   "cell_type": "markdown",
   "metadata": {},
   "source": [
    "- In this project, machine learning is used to help a given company that is specialized in Big Data, to estimate the probabilities of enrollees with special training that will look for a new job outside the company after completing their courses.\n",
    "\n",
    "- Two XGboost models are fitted and tuned to obtain the best predictions for probabilities. Compared to other models trained on the same dataset, the Xgboost models outperformed the other by almost 10% points.\n",
    "\n",
    "- Both XGboost models yield the same AUC score, so any of them could be used.\n",
    "\n",
    "- In the process of estimation sagemaker built in models were used, and hyperparameter grid search was applied to control for overfitting. \n",
    "\n",
    "- The training set was split into a validation set, in order to ensure that appropriate model validation was applied.\n",
    "\n",
    "- The following list contains the probabilities of looking for a new job for each of the employees. Using the Xgboost tuned for AUC score, that will be handed in to the HR area. This probabilities were selected rather than the others for no particular reason as they are very similar according to the evaluation metric at hand, but because the AUC score is the evaluation metric that matters these probabilies come from a model that is tuned for better AUC scores."
   ]
  },
  {
   "cell_type": "code",
   "execution_count": 38,
   "metadata": {},
   "outputs": [
    {
     "data": {
      "text/html": [
       "<div>\n",
       "<style scoped>\n",
       "    .dataframe tbody tr th:only-of-type {\n",
       "        vertical-align: middle;\n",
       "    }\n",
       "\n",
       "    .dataframe tbody tr th {\n",
       "        vertical-align: top;\n",
       "    }\n",
       "\n",
       "    .dataframe thead th {\n",
       "        text-align: right;\n",
       "    }\n",
       "</style>\n",
       "<table border=\"1\" class=\"dataframe\">\n",
       "  <thead>\n",
       "    <tr style=\"text-align: right;\">\n",
       "      <th></th>\n",
       "      <th>enrollee_id</th>\n",
       "      <th>prob</th>\n",
       "    </tr>\n",
       "  </thead>\n",
       "  <tbody>\n",
       "    <tr>\n",
       "      <th>0</th>\n",
       "      <td>32403</td>\n",
       "      <td>0.14</td>\n",
       "    </tr>\n",
       "    <tr>\n",
       "      <th>1</th>\n",
       "      <td>9858</td>\n",
       "      <td>0.30</td>\n",
       "    </tr>\n",
       "    <tr>\n",
       "      <th>2</th>\n",
       "      <td>31806</td>\n",
       "      <td>0.43</td>\n",
       "    </tr>\n",
       "    <tr>\n",
       "      <th>3</th>\n",
       "      <td>27385</td>\n",
       "      <td>0.07</td>\n",
       "    </tr>\n",
       "    <tr>\n",
       "      <th>4</th>\n",
       "      <td>27724</td>\n",
       "      <td>0.08</td>\n",
       "    </tr>\n",
       "    <tr>\n",
       "      <th>...</th>\n",
       "      <td>...</td>\n",
       "      <td>...</td>\n",
       "    </tr>\n",
       "    <tr>\n",
       "      <th>95</th>\n",
       "      <td>2934</td>\n",
       "      <td>0.05</td>\n",
       "    </tr>\n",
       "    <tr>\n",
       "      <th>96</th>\n",
       "      <td>12919</td>\n",
       "      <td>0.58</td>\n",
       "    </tr>\n",
       "    <tr>\n",
       "      <th>97</th>\n",
       "      <td>4386</td>\n",
       "      <td>0.53</td>\n",
       "    </tr>\n",
       "    <tr>\n",
       "      <th>98</th>\n",
       "      <td>22462</td>\n",
       "      <td>0.62</td>\n",
       "    </tr>\n",
       "    <tr>\n",
       "      <th>99</th>\n",
       "      <td>13988</td>\n",
       "      <td>0.10</td>\n",
       "    </tr>\n",
       "  </tbody>\n",
       "</table>\n",
       "<p>100 rows × 2 columns</p>\n",
       "</div>"
      ],
      "text/plain": [
       "    enrollee_id  prob\n",
       "0         32403  0.14\n",
       "1          9858  0.30\n",
       "2         31806  0.43\n",
       "3         27385  0.07\n",
       "4         27724  0.08\n",
       "..          ...   ...\n",
       "95         2934  0.05\n",
       "96        12919  0.58\n",
       "97         4386  0.53\n",
       "98        22462  0.62\n",
       "99        13988  0.10\n",
       "\n",
       "[100 rows x 2 columns]"
      ]
     },
     "execution_count": 38,
     "metadata": {},
     "output_type": "execute_result"
    }
   ],
   "source": [
    "pd.concat([cleaned_test[['enrollee_id']], pd.DataFrame({'prob':y_test_pred_xgboost_auc}).round(2)], axis = 1).head(100)"
   ]
  },
  {
   "cell_type": "markdown",
   "metadata": {},
   "source": [
    "Depending on the costs that the company incurs on recuiting candidates and imparting training sessions, they can use these probabilities for decision making.\n",
    "\n",
    "- Segment their enrollees and work with the best candidates that wish to look for a new job, in order to retain them.\n",
    "- Improve their training in order to reduce the probabilities of looking for a new job outside the company.\n",
    "- Focus futher efforts on candidates that want to stay in the company.\n",
    "\n",
    "These are some of the possibilites on how these probabilites can be used."
   ]
  },
  {
   "cell_type": "markdown",
   "metadata": {},
   "source": [
    "## Clean up"
   ]
  },
  {
   "cell_type": "markdown",
   "metadata": {},
   "source": [
    "The following code deletes results from workspace in S3."
   ]
  },
  {
   "cell_type": "code",
   "execution_count": null,
   "metadata": {},
   "outputs": [],
   "source": [
    "# First remove all of the files contained in the data_dir directory\n",
    "!rm $sagemaker_session/prefix/*\n",
    "\n",
    "# And then we delete the directory itself\n",
    "!rmdir $sagemaker_session/prefix"
   ]
  }
 ],
 "metadata": {
  "kernelspec": {
   "display_name": "conda_amazonei_mxnet_p36",
   "language": "python",
   "name": "conda_amazonei_mxnet_p36"
  },
  "language_info": {
   "codemirror_mode": {
    "name": "ipython",
    "version": 3
   },
   "file_extension": ".py",
   "mimetype": "text/x-python",
   "name": "python",
   "nbconvert_exporter": "python",
   "pygments_lexer": "ipython3",
   "version": "3.6.13"
  },
  "toc-autonumbering": true,
  "toc-showcode": false,
  "toc-showmarkdowntxt": false,
  "toc-showtags": false
 },
 "nbformat": 4,
 "nbformat_minor": 4
}
